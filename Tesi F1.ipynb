{
 "cells": [
  {
   "cell_type": "markdown",
   "id": "2fc55c6b-995b-42ef-898d-f80b745a2ed6",
   "metadata": {},
   "source": [
    "# TESI F1"
   ]
  },
  {
   "cell_type": "markdown",
   "id": "c0f8930a-6369-48ed-b307-2c4632d41da8",
   "metadata": {},
   "source": [
    "###### "
   ]
  },
  {
   "cell_type": "markdown",
   "id": "34539f57-f132-42e7-9db3-85a38f8cf730",
   "metadata": {},
   "source": [
    "## FONTI"
   ]
  },
  {
   "cell_type": "markdown",
   "id": "6e77bc93-3415-4f0b-91ff-ee1a491b0133",
   "metadata": {},
   "source": [
    "[1] https://www.linkedin.com/pulse/f1-analisi-tecnica-dei-dati-fino-30gb-gp-federica-canton/?originalSubdomain=it"
   ]
  },
  {
   "cell_type": "markdown",
   "id": "a3dc268c-b251-4afd-b483-3141cca20611",
   "metadata": {},
   "source": [
    "## INTRODUZIONE"
   ]
  },
  {
   "cell_type": "markdown",
   "id": "a9314e5d-95f6-4da8-93a9-ed72d206e9cf",
   "metadata": {},
   "source": [
    "In un mondo pieno dati lo sport si sta adattando e anno dopo anno li sta usando con lo scopo di raggiungere risultati...\n",
    "Uno dei principali mondi in cui la raccolta è l'analisi dei dati è fondamentale è il motorsport, quello più sviluppato è la formula 1...\n",
    "\n",
    "Lato storico, dal 1950 la prima gara di f1...\n",
    "\n"
   ]
  }
 ],
 "metadata": {
  "kernelspec": {
   "display_name": "Python 3 (ipykernel)",
   "language": "python",
   "name": "python3"
  },
  "language_info": {
   "codemirror_mode": {
    "name": "ipython",
    "version": 3
   },
   "file_extension": ".py",
   "mimetype": "text/x-python",
   "name": "python",
   "nbconvert_exporter": "python",
   "pygments_lexer": "ipython3",
   "version": "3.9.13"
  }
 },
 "nbformat": 4,
 "nbformat_minor": 5
}
